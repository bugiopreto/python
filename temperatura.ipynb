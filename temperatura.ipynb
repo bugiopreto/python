{
 "cells": [
  {
   "cell_type": "code",
   "execution_count": 6,
   "metadata": {},
   "outputs": [],
   "source": [
    "import requests"
   ]
  },
  {
   "cell_type": "code",
   "execution_count": 11,
   "metadata": {},
   "outputs": [
    {
     "name": "stdout",
     "output_type": "stream",
     "text": [
      "19°C\n"
     ]
    }
   ],
   "source": [
    "from bs4 import BeautifulSoup\n",
    "search = \"Weather in delhi\"\n",
    "url = f\"https://www.google.com.br/search?q={search}\"\n",
    "r = requests.get(url)\n",
    "s = BeautifulSoup(r.text, \"html.parser\")\n",
    "update = s.find(\"div\", class_=\"BNeawe\").text\n",
    "print(update)"
   ]
  },
  {
   "cell_type": "code",
   "execution_count": null,
   "metadata": {},
   "outputs": [],
   "source": []
  }
 ],
 "metadata": {
  "kernelspec": {
   "display_name": "Python 3",
   "language": "python",
   "name": "python3"
  },
  "language_info": {
   "codemirror_mode": {
    "name": "ipython",
    "version": 3
   },
   "file_extension": ".py",
   "mimetype": "text/x-python",
   "name": "python",
   "nbconvert_exporter": "python",
   "pygments_lexer": "ipython3",
   "version": "3.8.3"
  }
 },
 "nbformat": 4,
 "nbformat_minor": 4
}
