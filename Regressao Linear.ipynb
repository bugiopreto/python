{
 "cells": [
  {
   "cell_type": "code",
   "execution_count": 1,
   "metadata": {},
   "outputs": [],
   "source": [
    "import scipy as sp\n",
    "import pandas as pd\n",
    "import matplotlib.pyplot as plt\n",
    "import statsmodels.formula.api as sm"
   ]
  },
  {
   "cell_type": "code",
   "execution_count": null,
   "metadata": {},
   "outputs": [],
   "source": [
    "#histograma\n",
    "plt.hist(y, color='red', bins=15)\n",
    "plt.title('Histograma da variável resposta')\n",
    "plt.show()"
   ]
  },
  {
   "cell_type": "code",
   "execution_count": null,
   "metadata": {},
   "outputs": [],
   "source": [
    "#modelo regressivo\n",
    "reg = sm.ols(formula='y~x1+x2+x3+x4+categoria', data=dados).fit()\n",
    "print(reg.summary())\n",
    "\n",
    "#coeficientes dos resíduos\n",
    "coefs = pd.DataFrame(reg.params)\n",
    "coefs.columns = ['Coeficientes']\n",
    "print(coefs)"
   ]
  },
  {
   "cell_type": "code",
   "execution_count": null,
   "metadata": {},
   "outputs": [],
   "source": [
    "#análise de resíduos\n",
    "y_hat = reg.predict()\n",
    "res = y - y_hat\n",
    "\n",
    "plt.hist(res, color='orange', bins=15)\n",
    "plt.title('Histograma dos resíduos da regressão')\n",
    "plt.show()\n",
    "\n",
    "\n",
    "#scatter de residuos\n",
    "plt.scatter(y=res, x=y_hat, color='green', s=50, alpha=.6)\n",
    "plt.hlines(y=0, xmin=-10, xmax=15, color='orange')\n",
    "plt.ylabel('$\\epsilon = y - \\hat{y}$ - Resíduos')\n",
    "plt.xlabel('$\\hat{y}$ ou $E(y)$ - Predito')\n",
    "plt.show()"
   ]
  },
  {
   "cell_type": "code",
   "execution_count": null,
   "metadata": {},
   "outputs": [],
   "source": [
    "#scatter com linha de tendencia\n",
    "\n",
    "plt.scatter(y=dados['y'], x=dados['x1'], color='blue', s=50, alpha=.5)\n",
    "X_plot = sp.linspace(min(dados['x1']), max(dados['x1']), len(dados['x1']))\n",
    "plt.plot(X_plot, X_plot*reg.params[1] + reg.params[0], color='r')\n",
    "plt.ylim(-11,16)\n",
    "plt.xlim(-2.5,3)\n",
    "plt.title('Reta de regressão')\n",
    "plt.ylabel('$y$ - Variável Dependente')\n",
    "plt.xlabel('$x1$ - Preditor')\n",
    "plt.show()"
   ]
  }
 ],
 "metadata": {
  "kernelspec": {
   "display_name": "Python 3",
   "language": "python",
   "name": "python3"
  },
  "language_info": {
   "codemirror_mode": {
    "name": "ipython",
    "version": 3
   },
   "file_extension": ".py",
   "mimetype": "text/x-python",
   "name": "python",
   "nbconvert_exporter": "python",
   "pygments_lexer": "ipython3",
   "version": "3.8.3"
  }
 },
 "nbformat": 4,
 "nbformat_minor": 4
}
